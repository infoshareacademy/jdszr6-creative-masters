{
 "cells": [
  {
   "cell_type": "code",
   "execution_count": 7,
   "id": "75fdaacc",
   "metadata": {},
   "outputs": [
    {
     "data": {
      "text/html": [
       "<div>\n",
       "<style scoped>\n",
       "    .dataframe tbody tr th:only-of-type {\n",
       "        vertical-align: middle;\n",
       "    }\n",
       "\n",
       "    .dataframe tbody tr th {\n",
       "        vertical-align: top;\n",
       "    }\n",
       "\n",
       "    .dataframe thead th {\n",
       "        text-align: right;\n",
       "    }\n",
       "</style>\n",
       "<table border=\"1\" class=\"dataframe\">\n",
       "  <thead>\n",
       "    <tr style=\"text-align: right;\">\n",
       "      <th></th>\n",
       "      <th>is_canceled</th>\n",
       "      <th>is_canceled</th>\n",
       "    </tr>\n",
       "    <tr>\n",
       "      <th>adults</th>\n",
       "      <th></th>\n",
       "      <th></th>\n",
       "    </tr>\n",
       "  </thead>\n",
       "  <tbody>\n",
       "    <tr>\n",
       "      <th>1</th>\n",
       "      <td>16022</td>\n",
       "      <td>6555</td>\n",
       "    </tr>\n",
       "    <tr>\n",
       "      <th>2</th>\n",
       "      <td>49136</td>\n",
       "      <td>32424</td>\n",
       "    </tr>\n",
       "    <tr>\n",
       "      <th>3</th>\n",
       "      <td>3736</td>\n",
       "      <td>1930</td>\n",
       "    </tr>\n",
       "    <tr>\n",
       "      <th>4</th>\n",
       "      <td>44</td>\n",
       "      <td>15</td>\n",
       "    </tr>\n",
       "  </tbody>\n",
       "</table>\n",
       "</div>"
      ],
      "text/plain": [
       "        is_canceled  is_canceled\n",
       "adults                          \n",
       "1             16022         6555\n",
       "2             49136        32424\n",
       "3              3736         1930\n",
       "4                44           15"
      ]
     },
     "execution_count": 7,
     "metadata": {},
     "output_type": "execute_result"
    }
   ],
   "source": [
    "import pandas as pd\n",
    "import os\n",
    "import pyecharts as pch\n",
    "\n",
    "tabela_glowna = pd.read_csv('hotel_bookings_dane.csv')\n",
    "tabela_glowna\n",
    "# tabela_glowna.isna().any()\n",
    "\n",
    "tabela_wiek = tabela_glowna[['is_canceled', 'adults', 'children', 'babies']].fillna(0.0)\n",
    "tabela_wiek\n",
    "# tabela_wiek.isna().any()\n",
    "\n",
    "#dorosli bez dzieci\n",
    "dorosli = tabela_wiek[(tabela_wiek['adults']!=0) & (tabela_wiek['children']==0) & (tabela_wiek['babies']==0)][['is_canceled','adults']]\n",
    "dorosli\n",
    "dorosli['ilosc'] = 1\n",
    "dorosli_df = dorosli[dorosli['adults'] <= 4].groupby(by=['is_canceled','adults']).count()\n",
    "dorosli_df\n",
    "\n",
    "\n",
    "\n",
    "dorosli = tabela_wiek[(tabela_wiek['adults']!=0) & (tabela_wiek['children']==0) & (tabela_wiek['babies']==0)][['is_canceled','adults']]\n",
    "dorosli\n",
    "dorosli_df_odwolane = dorosli[(dorosli['adults'] <= 4) & (dorosli['is_canceled'] == 1)].groupby(by='adults').count()\n",
    "dorosli_df_odwolane\n",
    "\n",
    "dorosli_df_nieodwolane = dorosli[(dorosli['adults'] <= 4) & (dorosli['is_canceled'] == 0)].groupby(by='adults').count()\n",
    "dorosli_df_nieodwolane\n",
    "\n",
    "result_df = pd.concat([dorosli_df_nieodwolane, dorosli_df_odwolane], axis=1)\n",
    "result_df\n",
    "\n",
    "bar_results_df =(\n",
    "    pch.)"
   ]
  },
  {
   "cell_type": "code",
   "execution_count": null,
   "id": "516d6f0c",
   "metadata": {},
   "outputs": [],
   "source": []
  },
  {
   "cell_type": "code",
   "execution_count": null,
   "id": "7522d568",
   "metadata": {},
   "outputs": [],
   "source": []
  }
 ],
 "metadata": {
  "kernelspec": {
   "display_name": "Python 3 (ipykernel)",
   "language": "python",
   "name": "python3"
  },
  "language_info": {
   "codemirror_mode": {
    "name": "ipython",
    "version": 3
   },
   "file_extension": ".py",
   "mimetype": "text/x-python",
   "name": "python",
   "nbconvert_exporter": "python",
   "pygments_lexer": "ipython3",
   "version": "3.9.7"
  }
 },
 "nbformat": 4,
 "nbformat_minor": 5
}
