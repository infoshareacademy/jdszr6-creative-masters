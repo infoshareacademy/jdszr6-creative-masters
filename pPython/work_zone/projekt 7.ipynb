{
 "cells": [
  {
   "cell_type": "code",
   "execution_count": 6,
   "metadata": {},
   "outputs": [
    {
     "name": "stderr",
     "output_type": "stream",
     "text": [
      "C:\\Users\\iwona\\AppData\\Local\\Temp/ipykernel_21132/2665069386.py:11: SettingWithCopyWarning: \n",
      "A value is trying to be set on a copy of a slice from a DataFrame.\n",
      "Try using .loc[row_indexer,col_indexer] = value instead\n",
      "\n",
      "See the caveats in the documentation: https://pandas.pydata.org/pandas-docs/stable/user_guide/indexing.html#returning-a-view-versus-a-copy\n",
      "  tabela_pokoj['ilosc'] = 1\n"
     ]
    },
    {
     "data": {
      "image/png": "[encoded data removed]",
      "text/plain": [
       "<Figure size 432x288 with 1 Axes>"
      ]
     },
     "metadata": {
      "needs_background": "light"
     },
     "output_type": "display_data"
    }
   ],
   "source": [
    "import pandas as pd\n",
    "import os\n",
    "import matplotlib.pyplot as plt\n",
    "import seaborn as sns\n",
    "\n",
    "tabela_glowna = pd.read_csv('hotel_bookings_dane.csv')\n",
    "tabela_glowna\n",
    "tabela_glowna.isna().any()\n",
    "\n",
    "tabela_pokoj = tabela_glowna[['is_canceled', 'reserved_room_type','assigned_room_type']]\n",
    "tabela_pokoj['ilosc'] = 1\n",
    "tabela_pokoj_róznica = tabela_pokoj[tabela_pokoj['reserved_room_type'] != tabela_pokoj['assigned_room_type']]\n",
    "wykres_7 = tabela_pokoj_róznica[['is_canceled','ilosc']].groupby(by='is_canceled').count()\n",
    "\n",
    "ax = sns.barplot(x=wykres_7.index, y=\"ilosc\", data=wykres_7)"
   ]
  }
 ],
 "metadata": {
  "interpreter": {
   "hash": "6f6a852045cb7c41c0ed64fd5381c53de76ae709a57c1e7c1397ba853602a19c"
  },
  "kernelspec": {
   "display_name": "Python 3.9.7 ('base')",
   "language": "python",
   "name": "python3"
  },
  "language_info": {
   "codemirror_mode": {
    "name": "ipython",
    "version": 3
   },
   "file_extension": ".py",
   "mimetype": "text/x-python",
   "name": "python",
   "nbconvert_exporter": "python",
   "pygments_lexer": "ipython3",
   "version": "3.9.7"
  },
  "orig_nbformat": 4
 },
 "nbformat": 4,
 "nbformat_minor": 2
}
