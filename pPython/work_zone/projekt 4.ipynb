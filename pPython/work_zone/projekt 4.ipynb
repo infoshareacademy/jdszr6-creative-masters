{
 "cells": [
  {
   "cell_type": "code",
   "execution_count": 8,
   "metadata": {},
   "outputs": [
    {
     "name": "stderr",
     "output_type": "stream",
     "text": [
      "C:\\Users\\iwona\\AppData\\Local\\Temp/ipykernel_2676/2340023188.py:17: SettingWithCopyWarning: \n",
      "A value is trying to be set on a copy of a slice from a DataFrame.\n",
      "Try using .loc[row_indexer,col_indexer] = value instead\n",
      "\n",
      "See the caveats in the documentation: https://pandas.pydata.org/pandas-docs/stable/user_guide/indexing.html#returning-a-view-versus-a-copy\n",
      "  dzieci_2['ilosc'] = 1\n"
     ]
    },
    {
     "data": {
      "image/png": "[encoded data removed]",
      "text/plain": [
       "<Figure size 432x288 with 1 Axes>"
      ]
     },
     "metadata": {
      "needs_background": "light"
     },
     "output_type": "display_data"
    }
   ],
   "source": [
    "#czy z dzecmi sa czesniej odwolywane niz bez dzieci\n",
    "import pandas as pd\n",
    "import os\n",
    "import matplotlib.pyplot as plt\n",
    "import seaborn as sns\n",
    "\n",
    "tabela_glowna = pd.read_csv('hotel_bookings_dane.csv')\n",
    "tabela_glowna\n",
    "# tabela_glowna.isna().any()\n",
    "\n",
    "tabela_wiek = tabela_glowna[['is_canceled', 'adults', 'children', 'babies']].fillna(0.0)\n",
    "tabela_wiek\n",
    "# tabela_wiek.isna().any()\n",
    "\n",
    "dzieci_2 = tabela_wiek[tabela_wiek['babies']!=0]\n",
    "dzieci_2\n",
    "dzieci_2['ilosc'] = 1\n",
    "dzieci_2_grup = dzieci_2.groupby(by=['is_canceled']).count()['ilosc']\n",
    "dzieci_2_grup_df = pd.DataFrame(dzieci_2_grup)\n",
    "dzieci_2_grup_df\n",
    "\n",
    "ax = sns.barplot(x=dzieci_2_grup_df.index, y=\"ilosc\", data=dzieci_2_grup_df)\n",
    "\n",
    "# g = sns.catplot(x='is_canceled', y=\"ilość rezerwacji\", col=\"all/children/babies\",\n",
    "#                 data=tabela_wiek, saturation=.5,\n",
    "#                 kind=\"bar\", ci=None, aspect=.6)"
   ]
  }
 ],
 "metadata": {
  "interpreter": {
   "hash": "6f6a852045cb7c41c0ed64fd5381c53de76ae709a57c1e7c1397ba853602a19c"
  },
  "kernelspec": {
   "display_name": "Python 3.9.7 ('base')",
   "language": "python",
   "name": "python3"
  },
  "language_info": {
   "codemirror_mode": {
    "name": "ipython",
    "version": 3
   },
   "file_extension": ".py",
   "mimetype": "text/x-python",
   "name": "python",
   "nbconvert_exporter": "python",
   "pygments_lexer": "ipython3",
   "version": "3.9.7"
  },
  "orig_nbformat": 4
 },
 "nbformat": 4,
 "nbformat_minor": 2
}
