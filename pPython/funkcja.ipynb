{
 "cells": [
  {
   "cell_type": "code",
   "execution_count": 57,
   "metadata": {},
   "outputs": [
    {
     "name": "stderr",
     "output_type": "stream",
     "text": [
      "C:\\Users\\iwona\\AppData\\Local\\Temp/ipykernel_27256/874243425.py:50: SettingWithCopyWarning: \n",
      "A value is trying to be set on a copy of a slice from a DataFrame.\n",
      "Try using .loc[row_indexer,col_indexer] = value instead\n",
      "\n",
      "See the caveats in the documentation: https://pandas.pydata.org/pandas-docs/stable/user_guide/indexing.html#returning-a-view-versus-a-copy\n",
      "  tabela_special_nieodwolane['wszystkie_rezerwacje'] = (tabela_special_nieodwolane['ilosc_rezerwacji'].values+\n",
      "C:\\Users\\iwona\\AppData\\Local\\Temp/ipykernel_27256/874243425.py:53: SettingWithCopyWarning: \n",
      "A value is trying to be set on a copy of a slice from a DataFrame.\n",
      "Try using .loc[row_indexer,col_indexer] = value instead\n",
      "\n",
      "See the caveats in the documentation: https://pandas.pydata.org/pandas-docs/stable/user_guide/indexing.html#returning-a-view-versus-a-copy\n",
      "  tabela_special_odwolane['wszystkie_rezerwacje'] = (tabela_special_nieodwolane['ilosc_rezerwacji'].values+\n"
     ]
    },
    {
     "name": "stdout",
     "output_type": "stream",
     "text": [
      "Podaj liczbę nieujemną!\n",
      "To nie jest liczba...\n"
     ]
    }
   ],
   "source": [
    "import pandas as pd\n",
    "import os\n",
    "import matplotlib.pyplot as plt\n",
    "import seaborn as sns\n",
    "\n",
    "folder_path = os.path.abspath(\"work_zone\")\n",
    "\n",
    "tabela_glowna = pd.read_csv(os.path.join(folder_path, 'hotel_bookings_dane.csv'))\n",
    "tabela_glowna\n",
    "# tabela_glowna.isna().any()\n",
    "\n",
    "tabela_special = tabela_glowna[['is_canceled', 'total_of_special_requests']].fillna(0)\n",
    "tabela_special.value_counts\n",
    "tabela_special['ilosc'] = 1\n",
    "tabela_special_gr = tabela_special.groupby(by=['is_canceled', 'total_of_special_requests'])\n",
    "tabela_special_gr.count()\n",
    "\n",
    "W = []\n",
    "status_odwoalania = []\n",
    "special = []\n",
    "\n",
    "for key, value in tabela_special_gr:\n",
    "    key = list(key)\n",
    "    W.append(key)\n",
    "\n",
    "for m, n in W:\n",
    "    status_odwoalania.append(m)\n",
    "    special.append(n)\n",
    "\n",
    "rezerwacje = tabela_special_gr.count().values.tolist()\n",
    "rezerwacje\n",
    "ilosc_rezerwacji = []\n",
    "for element in rezerwacje:\n",
    "    for el in element:\n",
    "        ilosc_rezerwacji.append(el)\n",
    "\n",
    "tabela_special_2={\n",
    "    'status_odwolania':status_odwoalania,\n",
    "    'special':special,\n",
    "    'ilosc_rezerwacji':ilosc_rezerwacji\n",
    "    }\n",
    "tabela_special_2\n",
    "tabela_special_2_df = pd.DataFrame(tabela_special_2)\n",
    "tabela_special_2_df\n",
    "tabela_special_nieodwolane = tabela_special_2_df[tabela_special_2_df['status_odwolania'] == 0]\n",
    "tabela_special_nieodwolane\n",
    "tabela_special_odwolane = tabela_special_2_df[tabela_special_2_df['status_odwolania'] == 1]\n",
    "tabela_special_odwolane\n",
    "\n",
    "tabela_special_nieodwolane['wszystkie_rezerwacje'] = (tabela_special_nieodwolane['ilosc_rezerwacji'].values+\n",
    "    tabela_special_odwolane['ilosc_rezerwacji'].values)\n",
    "tabela_special_nieodwolane\n",
    "tabela_special_odwolane['wszystkie_rezerwacje'] = (tabela_special_nieodwolane['ilosc_rezerwacji'].values+\n",
    "    tabela_special_odwolane['ilosc_rezerwacji'].values)\n",
    "tabela_special_odwolane\n",
    "\n",
    "tabela_special_all = pd.concat([tabela_special_nieodwolane, tabela_special_odwolane]).reset_index(drop=True)\n",
    "tabela_special_all['procent'] = round((tabela_special_all['ilosc_rezerwacji']/tabela_special_all['wszystkie_rezerwacje'])*100)\n",
    "tabela_special_all\n",
    "\n",
    "\n",
    "\n"
   ]
  },
  {
   "cell_type": "code",
   "execution_count": 60,
   "metadata": {},
   "outputs": [
    {
     "name": "stdout",
     "output_type": "stream",
     "text": [
      "!ALERT! Wybredny gość!\n"
     ]
    },
    {
     "data": {
      "text/plain": [
       "1"
      ]
     },
     "execution_count": 60,
     "metadata": {},
     "output_type": "execute_result"
    }
   ],
   "source": [
    "#funkcja przypisyje wartość 1 dla rezerwacji w ptórych procent nieodwołanych prezentacji jezt mniejczy niż 80%,\n",
    "#czyli dla 0, 1 lub 2 zachcianek\n",
    "# 1--> odwoła\n",
    "# 0--> nieodwoła\n",
    "\n",
    "def special_requests():\n",
    "    koniec = True\n",
    "    while koniec == True:\n",
    "        try:\n",
    "            x = int(input(\"Podaj liczbę specjalnych wymagań:\"))\n",
    "            while x < 0:\n",
    "                print('Podaj liczbę nieujemną!')\n",
    "                x = int(input(\"Podaj liczbę specjalnych wymagań:\"))\n",
    "            if x == 0 or x == 1 or x == 2:\n",
    "                koniec = False\n",
    "                return 1\n",
    "            elif x == 3 or x == 4 or x == 5:\n",
    "                koniec = False\n",
    "                return 0\n",
    "            elif x >= 5:\n",
    "                koniec = False\n",
    "                print('!ALERT! Wybredny gość!')\n",
    "                return 1\n",
    "        except Exception:\n",
    "            print(\"To nie jest liczba...\")\n",
    "        \n",
    "\n",
    "special_requests()"
   ]
  }
 ],
 "metadata": {
  "interpreter": {
   "hash": "6f6a852045cb7c41c0ed64fd5381c53de76ae709a57c1e7c1397ba853602a19c"
  },
  "kernelspec": {
   "display_name": "Python 3.9.7 ('base')",
   "language": "python",
   "name": "python3"
  },
  "language_info": {
   "codemirror_mode": {
    "name": "ipython",
    "version": 3
   },
   "file_extension": ".py",
   "mimetype": "text/x-python",
   "name": "python",
   "nbconvert_exporter": "python",
   "pygments_lexer": "ipython3",
   "version": "3.9.7"
  },
  "orig_nbformat": 4
 },
 "nbformat": 4,
 "nbformat_minor": 2
}
