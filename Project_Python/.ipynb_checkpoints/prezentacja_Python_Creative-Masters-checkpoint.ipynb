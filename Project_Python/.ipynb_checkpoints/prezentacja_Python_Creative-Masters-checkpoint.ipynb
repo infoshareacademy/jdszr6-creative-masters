{
 "cells": [
  {
   "cell_type": "markdown",
   "id": "0496ffdb",
   "metadata": {},
   "source": [
    "## Odwiedzi nas czy wystawi? \n",
    "\n",
    "### 1. Dane\n",
    "\n",
    "Nasze dane opisują informacje dotyczące rezerwacji w hotelach takie jak:\n",
    "\n",
    "* daty rezerwacji, \n",
    "* długosc pobytu, \n",
    "* ilość gości wraz z ilościa dzieci oraz niemowląt,\n",
    "* rezerwacje w podziale na segment rynku,\n",
    "* liczba zarezerwowanych miejsc parkingowych\n",
    "oraz wiele innych.\n",
    "\n",
    "Dane personalne nie występują w tym zbiorze danych.\n",
    "\n",
    "Dane zostały pobrane z [Kaggle](https://www.kaggle.com/datasets/jessemostipak/hotel-booking-demand)\n",
    "\n",
    "### 2. Cel prezentacji\n",
    "\n",
    "W naszej dzisiejszej prezentacji spróbujemy okreslić:\n",
    "\n",
    "1. Jakie dane wskazują potencjalnie na odwołanie rezerwacji?\n",
    "2. Jakie działania możemy podjąć, aby zmniejszyć ryzyko anulowania rezerwacji?\n",
    "\n",
    "    #### 2.1. Analiza danych wskazujacych na mozliwosc odwołania rezerwacji\n",
    "\n",
    "        1. Wykres 1\n",
    "        2. Wykres 2\n",
    "        3. Wykres 3\n",
    "\n",
    "    #### 2.2. Funkcja określająca ryzyko anulowania rezerwacji\n",
    "\n",
    "\n",
    "\n",
    "\n",
    "\n",
    "\n"
   ]
  },
  {
   "cell_type": "code",
   "execution_count": null,
   "id": "b2f28b0f",
   "metadata": {},
   "outputs": [],
   "source": []
  },
  {
   "cell_type": "code",
   "execution_count": null,
   "id": "306de7fa",
   "metadata": {},
   "outputs": [],
   "source": [
    "import pandas as pd\n",
    "import os\n",
    "import matplotlib.pyplot as plt\n",
    "import seaborn as sns"
   ]
  },
  {
   "cell_type": "code",
   "execution_count": 4,
   "id": "f6a02f71",
   "metadata": {},
   "outputs": [
    {
     "name": "stdout",
     "output_type": "stream",
     "text": [
      "C:\\Users\\piotr\\Documents\\GitHub\\jdszr6-creative-masters\\piotr-zalesinski\\Project_Python\\Data\\hotel_bookings.csv\n"
     ]
    },
    {
     "data": {
      "image/png": "[encoded data removed]",
      "text/plain": [
       "<Figure size 432x288 with 1 Axes>"
      ]
     },
     "metadata": {
      "needs_background": "light"
     },
     "output_type": "display_data"
    }
   ],
   "source": [
    "from itertools import groupby\n",
    "import os\n",
    "import pandas as pd\n",
    "import matplotlib.pyplot as plt\n",
    "import numpy as np\n",
    "import seaborn as sns\n",
    "\n",
    "\n",
    "# -lead time A&P\n",
    "# -country ALL\n",
    "# -market segment/distribution channel A&P\n",
    "# -date ALL\n",
    "# -previous cancellation/not canceled A&P\n",
    "# -customer type A&P\n",
    "# -adr A&P\n",
    "# -reserviation status\n",
    "\n",
    "#data_filename = 'hotel_bookings.csv'\n",
    "\n",
    "\n",
    "data_filename = 'hotel_bookings.csv'\n",
    "data_path = os.path.join(os.path.abspath('../Project_Python/Data'), data_filename)\n",
    "#print (data_path)\n",
    "\n",
    "data_df = pd.read_csv(data_path)\n",
    "\n",
    "# .groupby(['arrival_date_month', 'arrival_date_year', 'is_canceled'], as_index=False).mean('lead_time')\n",
    "lead_time_grouped = data_df[['market_segment', 'is_canceled']]\n",
    "\n",
    "lead_time_grouped.groupby(['market_segment', 'is_canceled']).size().unstack().plot(kind='bar', stacked=True)\n",
    "\n",
    "plt.show()"
   ]
  },
  {
   "cell_type": "code",
   "execution_count": null,
   "id": "c816e6e9",
   "metadata": {},
   "outputs": [],
   "source": []
  },
  {
   "cell_type": "code",
   "execution_count": null,
   "id": "03a7d40a",
   "metadata": {},
   "outputs": [],
   "source": []
  }
 ],
 "metadata": {
  "kernelspec": {
   "display_name": "Python 3 (ipykernel)",
   "language": "python",
   "name": "python3"
  },
  "language_info": {
   "codemirror_mode": {
    "name": "ipython",
    "version": 3
   },
   "file_extension": ".py",
   "mimetype": "text/x-python",
   "name": "python",
   "nbconvert_exporter": "python",
   "pygments_lexer": "ipython3",
   "version": "3.9.7"
  }
 },
 "nbformat": 4,
 "nbformat_minor": 5
}
