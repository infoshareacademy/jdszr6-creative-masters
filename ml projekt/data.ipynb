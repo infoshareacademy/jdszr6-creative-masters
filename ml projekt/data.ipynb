{
 "cells": [
  {
   "cell_type": "code",
   "execution_count": 2,
   "metadata": {},
   "outputs": [],
   "source": [
    "import pandas as pd\n",
    "from sklearn.linear_model import LogisticRegression\n",
    "from sklearn import metrics\n",
    "from sklearn.model_selection import train_test_split\n",
    "from sklearn.metrics import confusion_matrix, classification_report\n",
    "import numpy as np\n",
    "import matplotlib.pyplot as plt\n",
    "import seaborn as sns\n",
    "from sklearn.metrics import plot_roc_curve, roc_auc_score\n",
    "from sklearn.decomposition import PCA\n",
    "from sklearn.preprocessing import LabelEncoder\n",
    "from sklearn.model_selection import GridSearchCV"
   ]
  },
  {
   "cell_type": "code",
   "execution_count": 3,
   "metadata": {},
   "outputs": [],
   "source": [
    "data_df = pd.read_csv('hotel_bookings.csv')\n",
    "pd.set_option('display.float_format', lambda x: '%.5f' % x)\n",
    "data_df = data_df.drop(columns=['reservation_status_date'])"
   ]
  },
  {
   "cell_type": "code",
   "execution_count": 4,
   "metadata": {},
   "outputs": [],
   "source": [
    "nan_replacements = {\"children\": 0.0, \"agent\": 0, \"company\": 0}\n",
    "data_df = data_df.fillna(nan_replacements)"
   ]
  },
  {
   "cell_type": "code",
   "execution_count": 6,
   "metadata": {},
   "outputs": [],
   "source": [
    "my_label_encoder = LabelEncoder()\n",
    "\n",
    "for el in data_df:\n",
    "    if data_df[el].dtype == object:\n",
    "        my_label_encoder.fit(data_df[el]) \n",
    "        tmp = my_label_encoder.transform(data_df[el]).reshape((-1,1))\n",
    "        data_df[el] = pd.DataFrame(tmp)\n",
    "\n"
   ]
  }
 ],
 "metadata": {
  "interpreter": {
   "hash": "6f6a852045cb7c41c0ed64fd5381c53de76ae709a57c1e7c1397ba853602a19c"
  },
  "kernelspec": {
   "display_name": "Python 3.9.7 ('base')",
   "language": "python",
   "name": "python3"
  },
  "language_info": {
   "codemirror_mode": {
    "name": "ipython",
    "version": 3
   },
   "file_extension": ".py",
   "mimetype": "text/x-python",
   "name": "python",
   "nbconvert_exporter": "python",
   "pygments_lexer": "ipython3",
   "version": "3.9.7"
  },
  "orig_nbformat": 4
 },
 "nbformat": 4,
 "nbformat_minor": 2
}
