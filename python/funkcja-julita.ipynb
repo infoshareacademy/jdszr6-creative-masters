{
 "cells": [
  {
   "cell_type": "code",
   "execution_count": 42,
   "id": "eff846ea",
   "metadata": {},
   "outputs": [],
   "source": [
    "import pandas as pd\n",
    "\n",
    "hotel_project = pd.read_csv('hotel_bookings.csv')\n",
    "hotel_cancel = hotel_project[hotel_project['is_canceled']>0]"
   ]
  },
  {
   "cell_type": "code",
   "execution_count": 40,
   "id": "b31b7b66",
   "metadata": {},
   "outputs": [
    {
     "data": {
      "text/html": [
       "<div>\n",
       "<style scoped>\n",
       "    .dataframe tbody tr th:only-of-type {\n",
       "        vertical-align: middle;\n",
       "    }\n",
       "\n",
       "    .dataframe tbody tr th {\n",
       "        vertical-align: top;\n",
       "    }\n",
       "\n",
       "    .dataframe thead th {\n",
       "        text-align: right;\n",
       "    }\n",
       "</style>\n",
       "<table border=\"1\" class=\"dataframe\">\n",
       "  <thead>\n",
       "    <tr style=\"text-align: right;\">\n",
       "      <th></th>\n",
       "      <th>count</th>\n",
       "    </tr>\n",
       "    <tr>\n",
       "      <th>required_car_parking_spaces</th>\n",
       "      <th></th>\n",
       "    </tr>\n",
       "  </thead>\n",
       "  <tbody>\n",
       "    <tr>\n",
       "      <th>0</th>\n",
       "      <td>44224</td>\n",
       "    </tr>\n",
       "  </tbody>\n",
       "</table>\n",
       "</div>"
      ],
      "text/plain": [
       "                             count\n",
       "required_car_parking_spaces       \n",
       "0                            44224"
      ]
     },
     "execution_count": 40,
     "metadata": {},
     "output_type": "execute_result"
    }
   ],
   "source": [
    "parkingi = hotel_cancel.groupby(['required_car_parking_spaces']).agg({'required_car_parking_spaces':'count'})\n",
    "parkingi.rename(columns={'required_car_parking_spaces':'count'})"
   ]
  },
  {
   "cell_type": "code",
   "execution_count": 43,
   "id": "809aceaa",
   "metadata": {},
   "outputs": [
    {
     "data": {
      "text/plain": [
       "0"
      ]
     },
     "execution_count": 43,
     "metadata": {},
     "output_type": "execute_result"
    }
   ],
   "source": [
    "def parking():\n",
    "    # zakladamy, ze hotel dysponuje ograniczona liczba miejsc. Przyjmujemy, ze jest to 5.\n",
    "    ile_miejsc = int(input('Podaj liczbę miejsc parkingowych, zarezerwowanych przez klienta. Max miejsc: 5'))\n",
    "    if ile_miejsc in range(0,6): \n",
    "        if ile_miejsc == 0:  \n",
    "            return 1    # odwolanie rezerwacji\n",
    "        else:\n",
    "            return 0    # nieodwolanie rezerwacji\n",
    "    elif ile_miejsc > 5:\n",
    "        return 1    # odwolanie rezerwacji, gdyz hotel nie dysponuje taka iloscia miejsc\n",
    "\n",
    "parking()\n",
    "    "
   ]
  },
  {
   "cell_type": "code",
   "execution_count": null,
   "id": "8277d71a",
   "metadata": {},
   "outputs": [],
   "source": []
  },
  {
   "cell_type": "code",
   "execution_count": null,
   "id": "ce53cb9d",
   "metadata": {},
   "outputs": [],
   "source": []
  }
 ],
 "metadata": {
  "kernelspec": {
   "display_name": "Python 3 (ipykernel)",
   "language": "python",
   "name": "python3"
  },
  "language_info": {
   "codemirror_mode": {
    "name": "ipython",
    "version": 3
   },
   "file_extension": ".py",
   "mimetype": "text/x-python",
   "name": "python",
   "nbconvert_exporter": "python",
   "pygments_lexer": "ipython3",
   "version": "3.9.7"
  }
 },
 "nbformat": 4,
 "nbformat_minor": 5
}
