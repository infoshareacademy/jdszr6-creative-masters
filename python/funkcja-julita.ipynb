{
 "cells": [
  {
   "cell_type": "code",
   "execution_count": 2,
   "id": "eff846ea",
   "metadata": {},
   "outputs": [],
   "source": [
    "import pandas as pd\n",
    "\n",
    "hotel_project = pd.read_csv('hotel_bookings.csv')\n",
    "hotel_cancel = hotel_project[hotel_project['is_canceled']>0]"
   ]
  },
  {
   "cell_type": "code",
   "execution_count": 25,
   "id": "b31b7b66",
   "metadata": {},
   "outputs": [
    {
     "data": {
      "text/html": [
       "<div>\n",
       "<style scoped>\n",
       "    .dataframe tbody tr th:only-of-type {\n",
       "        vertical-align: middle;\n",
       "    }\n",
       "\n",
       "    .dataframe tbody tr th {\n",
       "        vertical-align: top;\n",
       "    }\n",
       "\n",
       "    .dataframe thead th {\n",
       "        text-align: right;\n",
       "    }\n",
       "</style>\n",
       "<table border=\"1\" class=\"dataframe\">\n",
       "  <thead>\n",
       "    <tr style=\"text-align: right;\">\n",
       "      <th></th>\n",
       "      <th>count</th>\n",
       "    </tr>\n",
       "    <tr>\n",
       "      <th>required_car_parking_spaces</th>\n",
       "      <th></th>\n",
       "    </tr>\n",
       "  </thead>\n",
       "  <tbody>\n",
       "    <tr>\n",
       "      <th>0</th>\n",
       "      <td>44224</td>\n",
       "    </tr>\n",
       "  </tbody>\n",
       "</table>\n",
       "</div>"
      ],
      "text/plain": [
       "                             count\n",
       "required_car_parking_spaces       \n",
       "0                            44224"
      ]
     },
     "execution_count": 25,
     "metadata": {},
     "output_type": "execute_result"
    }
   ],
   "source": [
    "parkingi = hotel_cancel.groupby(['required_car_parking_spaces']).agg({'required_car_parking_spaces':'count'})\n",
    "parkingi = parkingi.rename(columns={'required_car_parking_spaces':'count'})\n",
    "parkingi"
   ]
  },
  {
   "cell_type": "code",
   "execution_count": 5,
   "id": "837045ae",
   "metadata": {},
   "outputs": [
    {
     "data": {
      "text/plain": [
       "8"
      ]
     },
     "execution_count": 5,
     "metadata": {},
     "output_type": "execute_result"
    }
   ],
   "source": [
    "hotel_project['required_car_parking_spaces'].max()  # rezerwacja z najwyzsza iloscia zadanych miejsc parkingowych"
   ]
  },
  {
   "cell_type": "code",
   "execution_count": 22,
   "id": "8277d71a",
   "metadata": {},
   "outputs": [
    {
     "data": {
      "text/html": [
       "<div>\n",
       "<style scoped>\n",
       "    .dataframe tbody tr th:only-of-type {\n",
       "        vertical-align: middle;\n",
       "    }\n",
       "\n",
       "    .dataframe tbody tr th {\n",
       "        vertical-align: top;\n",
       "    }\n",
       "\n",
       "    .dataframe thead th {\n",
       "        text-align: right;\n",
       "    }\n",
       "</style>\n",
       "<table border=\"1\" class=\"dataframe\">\n",
       "  <thead>\n",
       "    <tr style=\"text-align: right;\">\n",
       "      <th></th>\n",
       "      <th>count</th>\n",
       "    </tr>\n",
       "    <tr>\n",
       "      <th>required_car_parking_spaces</th>\n",
       "      <th></th>\n",
       "    </tr>\n",
       "  </thead>\n",
       "  <tbody>\n",
       "    <tr>\n",
       "      <th>0</th>\n",
       "      <td>111974</td>\n",
       "    </tr>\n",
       "    <tr>\n",
       "      <th>1</th>\n",
       "      <td>7383</td>\n",
       "    </tr>\n",
       "    <tr>\n",
       "      <th>2</th>\n",
       "      <td>28</td>\n",
       "    </tr>\n",
       "    <tr>\n",
       "      <th>3</th>\n",
       "      <td>3</td>\n",
       "    </tr>\n",
       "    <tr>\n",
       "      <th>8</th>\n",
       "      <td>2</td>\n",
       "    </tr>\n",
       "  </tbody>\n",
       "</table>\n",
       "</div>"
      ],
      "text/plain": [
       "                              count\n",
       "required_car_parking_spaces        \n",
       "0                            111974\n",
       "1                              7383\n",
       "2                                28\n",
       "3                                 3\n",
       "8                                 2"
      ]
     },
     "execution_count": 22,
     "metadata": {},
     "output_type": "execute_result"
    }
   ],
   "source": [
    "procent = hotel_project.groupby(['required_car_parking_spaces']).agg({'required_car_parking_spaces':'count'})\n",
    "procent = procent.rename(columns={'required_car_parking_spaces':'count'})\n",
    "procent"
   ]
  },
  {
   "cell_type": "code",
   "execution_count": 78,
   "id": "ce53cb9d",
   "metadata": {},
   "outputs": [
    {
     "data": {
      "text/html": [
       "<div>\n",
       "<style scoped>\n",
       "    .dataframe tbody tr th:only-of-type {\n",
       "        vertical-align: middle;\n",
       "    }\n",
       "\n",
       "    .dataframe tbody tr th {\n",
       "        vertical-align: top;\n",
       "    }\n",
       "\n",
       "    .dataframe thead th {\n",
       "        text-align: right;\n",
       "    }\n",
       "</style>\n",
       "<table border=\"1\" class=\"dataframe\">\n",
       "  <thead>\n",
       "    <tr style=\"text-align: right;\">\n",
       "      <th></th>\n",
       "      <th>count</th>\n",
       "      <th>%</th>\n",
       "    </tr>\n",
       "    <tr>\n",
       "      <th>required_car_parking_spaces</th>\n",
       "      <th></th>\n",
       "      <th></th>\n",
       "    </tr>\n",
       "  </thead>\n",
       "  <tbody>\n",
       "    <tr>\n",
       "      <th>0</th>\n",
       "      <td>111974</td>\n",
       "      <td>93.79</td>\n",
       "    </tr>\n",
       "    <tr>\n",
       "      <th>1</th>\n",
       "      <td>7383</td>\n",
       "      <td>6.18</td>\n",
       "    </tr>\n",
       "    <tr>\n",
       "      <th>2</th>\n",
       "      <td>28</td>\n",
       "      <td>0.02</td>\n",
       "    </tr>\n",
       "    <tr>\n",
       "      <th>3</th>\n",
       "      <td>3</td>\n",
       "      <td>0.00</td>\n",
       "    </tr>\n",
       "    <tr>\n",
       "      <th>8</th>\n",
       "      <td>2</td>\n",
       "      <td>0.00</td>\n",
       "    </tr>\n",
       "  </tbody>\n",
       "</table>\n",
       "</div>"
      ],
      "text/plain": [
       "                              count      %\n",
       "required_car_parking_spaces               \n",
       "0                            111974  93.79\n",
       "1                              7383   6.18\n",
       "2                                28   0.02\n",
       "3                                 3   0.00\n",
       "8                                 2   0.00"
      ]
     },
     "execution_count": 78,
     "metadata": {},
     "output_type": "execute_result"
    }
   ],
   "source": [
    "procent['%'] = round((procent['count']/(procent['count']).sum())*100,2)\n",
    "procent"
   ]
  },
  {
   "cell_type": "code",
   "execution_count": 75,
   "id": "c29854ef",
   "metadata": {},
   "outputs": [
    {
     "data": {
      "text/html": [
       "<div>\n",
       "<style scoped>\n",
       "    .dataframe tbody tr th:only-of-type {\n",
       "        vertical-align: middle;\n",
       "    }\n",
       "\n",
       "    .dataframe tbody tr th {\n",
       "        vertical-align: top;\n",
       "    }\n",
       "\n",
       "    .dataframe thead th {\n",
       "        text-align: right;\n",
       "    }\n",
       "</style>\n",
       "<table border=\"1\" class=\"dataframe\">\n",
       "  <thead>\n",
       "    <tr style=\"text-align: right;\">\n",
       "      <th></th>\n",
       "      <th>%</th>\n",
       "    </tr>\n",
       "    <tr>\n",
       "      <th>required_car_parking_spaces</th>\n",
       "      <th></th>\n",
       "    </tr>\n",
       "  </thead>\n",
       "  <tbody>\n",
       "    <tr>\n",
       "      <th>0</th>\n",
       "      <td>39.49</td>\n",
       "    </tr>\n",
       "    <tr>\n",
       "      <th>1</th>\n",
       "      <td>NaN</td>\n",
       "    </tr>\n",
       "    <tr>\n",
       "      <th>2</th>\n",
       "      <td>NaN</td>\n",
       "    </tr>\n",
       "    <tr>\n",
       "      <th>3</th>\n",
       "      <td>NaN</td>\n",
       "    </tr>\n",
       "    <tr>\n",
       "      <th>8</th>\n",
       "      <td>NaN</td>\n",
       "    </tr>\n",
       "  </tbody>\n",
       "</table>\n",
       "</div>"
      ],
      "text/plain": [
       "                                 %\n",
       "required_car_parking_spaces       \n",
       "0                            39.49\n",
       "1                              NaN\n",
       "2                              NaN\n",
       "3                              NaN\n",
       "8                              NaN"
      ]
     },
     "execution_count": 75,
     "metadata": {},
     "output_type": "execute_result"
    }
   ],
   "source": [
    "stosunek = round((parkingi['count']/procent['count'])*100,2)\n",
    "stosunek = pd.DataFrame(stosunek)\n",
    "stosunek = stosunek.rename(columns={'count':'%'})\n",
    "stosunek\n"
   ]
  },
  {
   "cell_type": "code",
   "execution_count": 76,
   "id": "6d86fc27",
   "metadata": {},
   "outputs": [
    {
     "data": {
      "text/plain": [
       "7.900000000000001"
      ]
     },
     "execution_count": 76,
     "metadata": {},
     "output_type": "execute_result"
    }
   ],
   "source": [
    "x = (0.395*0.2)*100 \n",
    "x"
   ]
  },
  {
   "cell_type": "markdown",
   "id": "203f907b",
   "metadata": {},
   "source": [
    "Zgodnie z powyższymi wyliczeniami, 44224 odwolane rezerwacje, stanowia 39,5% wszystkich rezerwacji. Odwolania te dotyczą tylko i wyłącznie miejsc parkingowych = 0. \n",
    "Zgodnie z tablica korelacji, 'required_car_parking_spaces' to waga korelacji 20%.\n",
    "\n",
    "Zatem łączna waga parkingów to 7,9%. \n",
    "\n",
    "Dla x > 50% przyjmujemy, że klient odwola rezerwacje (1)\n",
    "Dla x < 50% przyjmujemy, że klient nie odwola rezerwacji (0).\n",
    "\n",
    "Elementy wplywajace na IS Cancelled wedlug rankingu korelacji\n",
    "1. lead_time - 29% waga - Piotr\n",
    "2. total_of_special_requests  - 23% waga - Iwona\n",
    "3. required_car_parking_spaces  - 20% waga - Julita\n",
    "4. booking_changes - 14% waga - Adam\n",
    "5. previous_cancellations  - 11% waga - Best effort basis *\n",
    "6. is_repeated_guest  - 8% waga - Best effort basis *"
   ]
  },
  {
   "cell_type": "code",
   "execution_count": 77,
   "id": "decaefb9",
   "metadata": {},
   "outputs": [
    {
     "data": {
      "text/plain": [
       "0"
      ]
     },
     "execution_count": 77,
     "metadata": {},
     "output_type": "execute_result"
    }
   ],
   "source": [
    "def parking():\n",
    "    # zakladamy, ze hotel dysponuje ograniczona liczba miejsc. Przyjmujemy, ze jest to 8 (max liczba zadanych miejsc parkingowych w zestawieniu - nie zostaly odwolane).\n",
    "    ile_miejsc = int(input('Podaj liczbę miejsc parkingowych, zarezerwowanych przez klienta. Max miejsc: 8'))\n",
    "    if ile_miejsc in range(0,9): \n",
    "        if ile_miejsc == 0:  \n",
    "            return 0   # odwolanie rezerwacji\n",
    "        else:\n",
    "            return 0    # nieodwolanie rezerwacji\n",
    "    elif ile_miejsc > 8:\n",
    "        print('Nie ma tyle miejsc. Sprobuj ponownie')\n",
    "        ile_miejsc = int(input('Podaj liczbę miejsc parkingowych, zarezerwowanych przez klienta. Max miejsc: 8'))\n",
    "            \n",
    "\n",
    "parking()"
   ]
  },
  {
   "cell_type": "code",
   "execution_count": null,
   "id": "47f5deba",
   "metadata": {},
   "outputs": [],
   "source": []
  }
 ],
 "metadata": {
  "kernelspec": {
   "display_name": "Python 3 (ipykernel)",
   "language": "python",
   "name": "python3"
  },
  "language_info": {
   "codemirror_mode": {
    "name": "ipython",
    "version": 3
   },
   "file_extension": ".py",
   "mimetype": "text/x-python",
   "name": "python",
   "nbconvert_exporter": "python",
   "pygments_lexer": "ipython3",
   "version": "3.9.7"
  }
 },
 "nbformat": 4,
 "nbformat_minor": 5
}
